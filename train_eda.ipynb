{
 "cells": [
  {
   "cell_type": "code",
   "execution_count": 10,
   "metadata": {},
   "outputs": [
    {
     "name": "stdout",
     "output_type": "stream",
     "text": [
      "Total number of rows in the DataFrame: 331213\n",
      "Number of unique ClassIDs (Extracted from '_' and Sorted): 46\n",
      "Distribution of each ClassID (Extracted from '_' and Sorted):\n",
      "0      6134\n",
      "1     16230\n",
      "10    18665\n",
      "11      921\n",
      "12      152\n",
      "13     4840\n",
      "14     2510\n",
      "15     3462\n",
      "16     1457\n",
      "17     1383\n",
      "18     3363\n",
      "19     6814\n",
      "2      1483\n",
      "20      112\n",
      "21     4318\n",
      "22     2569\n",
      "23    46206\n",
      "24     7195\n",
      "25     1373\n",
      "26      127\n",
      "27     1176\n",
      "28    10129\n",
      "29     5960\n",
      "3      1105\n",
      "30      870\n",
      "31    58810\n",
      "32    27037\n",
      "33    33903\n",
      "34     3281\n",
      "35     7965\n",
      "36     3517\n",
      "37     5079\n",
      "38      528\n",
      "39     1366\n",
      "4      7808\n",
      "40      587\n",
      "41      272\n",
      "42     4871\n",
      "43     2403\n",
      "44      929\n",
      "45      335\n",
      "5       720\n",
      "6     12375\n",
      "7      2731\n",
      "8      5024\n",
      "9      3118\n",
      "Name: CleanedClassId, dtype: int64\n",
      "Total count of ClassIDs: 331213\n",
      "The total count of ClassIDs matches the number of rows in the DataFrame.\n"
     ]
    },
    {
     "data": {
      "image/png": "[encoded data removed]",
      "text/plain": [
       "<Figure size 720x432 with 1 Axes>"
      ]
     },
     "metadata": {
      "needs_background": "light"
     },
     "output_type": "display_data"
    },
    {
     "ename": "",
     "evalue": "",
     "output_type": "error",
     "traceback": [
      "\u001b[1;31mThe Kernel crashed while executing code in the the current cell or a previous cell. Please review the code in the cell(s) to identify a possible cause of the failure. Click <a href='https://aka.ms/vscodeJupyterKernelCrash'>here</a> for more info. View Jupyter <a href='command:jupyter.viewOutput'>log</a> for further details."
     ]
    }
   ],
   "source": [
    "import pandas as pd\n",
    "import matplotlib.pyplot as plt\n",
    "\n",
    "def extract_classid(classid):\n",
    "    # Extract the starting number before the first occurrence of '_'\n",
    "    return classid.split('_')[0]\n",
    "\n",
    "def classid_distribution(csv_file_path):\n",
    "    # Read the data from the CSV file into a Pandas DataFrame\n",
    "    df = pd.read_csv(csv_file_path)\n",
    "\n",
    "    # Get the total number of rows in the DataFrame\n",
    "    total_rows = len(df)\n",
    "\n",
    "    # Apply the extract_classid function to get the cleaned ClassIDs\n",
    "    df['CleanedClassId'] = df['ClassId'].apply(extract_classid)\n",
    "\n",
    "    # Get the unique CleanedClassID values and their counts, sorted in ascending order\n",
    "    classid_counts = df['CleanedClassId'].value_counts().sort_index()\n",
    "\n",
    "    # Get the number of unique CleanedClassID values\n",
    "    num_unique_classids = len(classid_counts)\n",
    "\n",
    "    # Calculate the sum of counts for each CleanedClassID\n",
    "    total_count = classid_counts.sum()\n",
    "\n",
    "    return df, total_rows, num_unique_classids, classid_counts, total_count\n",
    "\n",
    "def plot_classid_distribution(classid_counts):\n",
    "    plt.figure(figsize=(10, 6))\n",
    "    classid_counts.plot(kind='bar')\n",
    "    plt.xlabel('ClassID')\n",
    "    plt.ylabel('Count')\n",
    "    plt.title('Distribution of ClassID (Extracted from \"_\" and Sorted)')\n",
    "    plt.xticks(rotation=45)\n",
    "    plt.tight_layout()\n",
    "    plt.show()\n",
    "\n",
    "# Replace 'train.csv' with the actual path to your dataset file\n",
    "csv_file_path = 'train.csv'\n",
    "cleaned_df, total_rows, num_unique_classids, classid_counts, total_count = classid_distribution(csv_file_path)\n",
    "\n",
    "# Save the cleaned DataFrame to a new CSV file\n",
    "cleaned_csv_file_path = 'cleaned_train.csv'\n",
    "cleaned_df.to_csv(cleaned_csv_file_path, index=False)\n",
    "\n",
    "print(\"Total number of rows in the DataFrame:\", total_rows)\n",
    "print(\"Number of unique ClassIDs (Extracted from '_' and Sorted):\", num_unique_classids)\n",
    "print(\"Distribution of each ClassID (Extracted from '_' and Sorted):\")\n",
    "print(classid_counts)\n",
    "print(\"Total count of ClassIDs:\", total_count)\n",
    "\n",
    "# Compare the total count of ClassIDs with the number of rows in the DataFrame\n",
    "if total_count == total_rows:\n",
    "    print(\"The total count of ClassIDs matches the number of rows in the DataFrame.\")\n",
    "else:\n",
    "    print(\"There are missing or duplicated ClassIDs in the DataFrame.\")\n",
    "\n",
    "plot_classid_distribution(classid_counts)\n"
   ]
  },
  {
   "cell_type": "code",
   "execution_count": 4,
   "metadata": {},
   "outputs": [
    {
     "name": "stdout",
     "output_type": "stream",
     "text": [
      "Number of rows with ClassID 13, 14, or 15: 10812\n",
      "Total number of rows in the DataFrame: 331213\n",
      "New total number of rows after removal: 320401\n",
      "The new total rows match the previous total rows minus the count of ClassIDs.\n"
     ]
    }
   ],
   "source": [
    "import pandas as pd\n",
    "\n",
    "def count_rows_with_classid(df, classids):\n",
    "    # Count the number of rows where ClassId is in the given list of classids\n",
    "    count = df[df['ClassId'].isin(classids)].shape[0]\n",
    "    return count\n",
    "\n",
    "# Read the cleaned data from the CSV file into a Pandas DataFrame\n",
    "csv_file_path = 'cleaned_train.csv'\n",
    "df = pd.read_csv(csv_file_path)\n",
    "\n",
    "# Define the list of ClassIDs to exclude\n",
    "classids_to_exclude = ['13', '14', '15']\n",
    "\n",
    "# Count the number of rows with ClassID 13, 14, or 15\n",
    "count_classids = count_rows_with_classid(df, classids_to_exclude)\n",
    "print(\"Number of rows with ClassID 13, 14, or 15:\", count_classids)\n",
    "\n",
    "# Get the total number of rows in the DataFrame\n",
    "total_rows = len(df)\n",
    "print(\"Total number of rows in the DataFrame:\", total_rows)\n",
    "\n",
    "# Remove the rows where ClassID is 13, 14, or 15\n",
    "df_filtered = df[~df['ClassId'].isin(classids_to_exclude)]\n",
    "\n",
    "# Save the filtered DataFrame to a new CSV file\n",
    "new_csv_file_path = 'filtered_train.csv'\n",
    "df_filtered.to_csv(new_csv_file_path, index=False)\n",
    "\n",
    "# Get the new total number of rows after removal\n",
    "new_total_rows = len(df_filtered)\n",
    "print(\"New total number of rows after removal:\", new_total_rows)\n",
    "\n",
    "# Check if the new total rows match the previous total rows minus the count of ClassIDs\n",
    "if new_total_rows == total_rows - count_classids:\n",
    "    print(\"The new total rows match the previous total rows minus the count of ClassIDs.\")\n",
    "else:\n",
    "    print(\"There might be an issue with the row removal process.\")\n"
   ]
  }
 ],
 "metadata": {
  "kernelspec": {
   "display_name": "yolov5",
   "language": "python",
   "name": "python3"
  },
  "language_info": {
   "codemirror_mode": {
    "name": "ipython",
    "version": 3
   },
   "file_extension": ".py",
   "mimetype": "text/x-python",
   "name": "python",
   "nbconvert_exporter": "python",
   "pygments_lexer": "ipython3",
   "version": "3.10.9"
  },
  "orig_nbformat": 4
 },
 "nbformat": 4,
 "nbformat_minor": 2
}
